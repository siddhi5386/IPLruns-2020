{
  "nbformat": 4,
  "nbformat_minor": 0,
  "metadata": {
    "colab": {
      "name": "Flipr IPL.ipynb",
      "provenance": [],
      "collapsed_sections": [],
      "mount_file_id": "1X7E7XsMlLEyKW3RNmDqq2rVDvyal6h7C",
      "authorship_tag": "ABX9TyPsu09Jo9srnI4hCl87oNDi",
      "include_colab_link": true
    },
    "kernelspec": {
      "name": "python3",
      "display_name": "Python 3"
    }
  },
  "cells": [
    {
      "cell_type": "markdown",
      "metadata": {
        "id": "view-in-github",
        "colab_type": "text"
      },
      "source": [
        "<a href=\"https://colab.research.google.com/github/siddhi5386/IPLruns-2020/blob/main/Flipr_IPL.ipynb\" target=\"_parent\"><img src=\"https://colab.research.google.com/assets/colab-badge.svg\" alt=\"Open In Colab\"/></a>"
      ]
    },
    {
      "cell_type": "code",
      "metadata": {
        "id": "n5f6J9BqrMKu"
      },
      "source": [
        "import numpy as np\n",
        "import pandas as pd\n",
        "import matplotlib.pyplot as plt\n",
        "%matplotlib inline\n",
        "\n",
        "train=pd.read_excel(\"/content/drive/My Drive/flipr ipl/Data.xlsx\",sheet_name='Train_Data')\n",
        "test=pd.read_excel(\"/content/drive/My Drive/flipr ipl/Data.xlsx\",sheet_name='Test_Data')"
      ],
      "execution_count": 112,
      "outputs": []
    },
    {
      "cell_type": "code",
      "metadata": {
        "id": "7ftrLyB4risJ",
        "outputId": "59c02c64-47b1-4ecc-d12e-b9ea4995cbec",
        "colab": {
          "base_uri": "https://localhost:8080/",
          "height": 204
        }
      },
      "source": [
        "train.head()"
      ],
      "execution_count": 113,
      "outputs": [
        {
          "output_type": "execute_result",
          "data": {
            "text/html": [
              "<div>\n",
              "<style scoped>\n",
              "    .dataframe tbody tr th:only-of-type {\n",
              "        vertical-align: middle;\n",
              "    }\n",
              "\n",
              "    .dataframe tbody tr th {\n",
              "        vertical-align: top;\n",
              "    }\n",
              "\n",
              "    .dataframe thead th {\n",
              "        text-align: right;\n",
              "    }\n",
              "</style>\n",
              "<table border=\"1\" class=\"dataframe\">\n",
              "  <thead>\n",
              "    <tr style=\"text-align: right;\">\n",
              "      <th></th>\n",
              "      <th>PLAYER</th>\n",
              "      <th>Mat</th>\n",
              "      <th>Inns</th>\n",
              "      <th>NO</th>\n",
              "      <th>2018_Runs</th>\n",
              "      <th>HS</th>\n",
              "      <th>Avg</th>\n",
              "      <th>BF</th>\n",
              "      <th>SR</th>\n",
              "      <th>100</th>\n",
              "      <th>50</th>\n",
              "      <th>4s</th>\n",
              "      <th>6s</th>\n",
              "      <th>2019_Runs</th>\n",
              "    </tr>\n",
              "  </thead>\n",
              "  <tbody>\n",
              "    <tr>\n",
              "      <th>0</th>\n",
              "      <td>Aaron Finch</td>\n",
              "      <td>10</td>\n",
              "      <td>9</td>\n",
              "      <td>1</td>\n",
              "      <td>134</td>\n",
              "      <td>46</td>\n",
              "      <td>16.75</td>\n",
              "      <td>100</td>\n",
              "      <td>134.00</td>\n",
              "      <td>0</td>\n",
              "      <td>0</td>\n",
              "      <td>6</td>\n",
              "      <td>8</td>\n",
              "      <td>160</td>\n",
              "    </tr>\n",
              "    <tr>\n",
              "      <th>1</th>\n",
              "      <td>AB de Villiers</td>\n",
              "      <td>12</td>\n",
              "      <td>11</td>\n",
              "      <td>2</td>\n",
              "      <td>480</td>\n",
              "      <td>90*</td>\n",
              "      <td>53.33</td>\n",
              "      <td>275</td>\n",
              "      <td>174.54</td>\n",
              "      <td>0</td>\n",
              "      <td>6</td>\n",
              "      <td>39</td>\n",
              "      <td>30</td>\n",
              "      <td>424</td>\n",
              "    </tr>\n",
              "    <tr>\n",
              "      <th>2</th>\n",
              "      <td>Abhishek Sharma</td>\n",
              "      <td>3</td>\n",
              "      <td>3</td>\n",
              "      <td>2</td>\n",
              "      <td>63</td>\n",
              "      <td>46*</td>\n",
              "      <td>63</td>\n",
              "      <td>33</td>\n",
              "      <td>190.90</td>\n",
              "      <td>0</td>\n",
              "      <td>0</td>\n",
              "      <td>3</td>\n",
              "      <td>5</td>\n",
              "      <td>63</td>\n",
              "    </tr>\n",
              "    <tr>\n",
              "      <th>3</th>\n",
              "      <td>Ajinkya Rahane</td>\n",
              "      <td>15</td>\n",
              "      <td>14</td>\n",
              "      <td>1</td>\n",
              "      <td>370</td>\n",
              "      <td>65*</td>\n",
              "      <td>28.46</td>\n",
              "      <td>313</td>\n",
              "      <td>118.21</td>\n",
              "      <td>0</td>\n",
              "      <td>1</td>\n",
              "      <td>39</td>\n",
              "      <td>5</td>\n",
              "      <td>396</td>\n",
              "    </tr>\n",
              "    <tr>\n",
              "      <th>4</th>\n",
              "      <td>Alex Hales</td>\n",
              "      <td>6</td>\n",
              "      <td>6</td>\n",
              "      <td>0</td>\n",
              "      <td>148</td>\n",
              "      <td>45</td>\n",
              "      <td>24.66</td>\n",
              "      <td>118</td>\n",
              "      <td>125.42</td>\n",
              "      <td>0</td>\n",
              "      <td>0</td>\n",
              "      <td>13</td>\n",
              "      <td>6</td>\n",
              "      <td>165</td>\n",
              "    </tr>\n",
              "  </tbody>\n",
              "</table>\n",
              "</div>"
            ],
            "text/plain": [
              "            PLAYER  Mat  Inns  NO  2018_Runs  ... 100 50  4s  6s  2019_Runs\n",
              "0      Aaron Finch   10     9   1        134  ...   0  0   6   8        160\n",
              "1   AB de Villiers   12    11   2        480  ...   0  6  39  30        424\n",
              "2  Abhishek Sharma    3     3   2         63  ...   0  0   3   5         63\n",
              "3   Ajinkya Rahane   15    14   1        370  ...   0  1  39   5        396\n",
              "4       Alex Hales    6     6   0        148  ...   0  0  13   6        165\n",
              "\n",
              "[5 rows x 14 columns]"
            ]
          },
          "metadata": {
            "tags": []
          },
          "execution_count": 113
        }
      ]
    },
    {
      "cell_type": "code",
      "metadata": {
        "id": "TGppdNmirtDj"
      },
      "source": [
        "train.replace({'-':0},inplace=True)\n",
        "test.replace({'-':0},inplace=True)"
      ],
      "execution_count": 114,
      "outputs": []
    },
    {
      "cell_type": "code",
      "metadata": {
        "id": "ww6ueC8Fr9kq"
      },
      "source": [
        "#those players who were not out while making their highest scores have potential to increase their scores if allowed to play for a longer period and hence 1 in \"HSmore\" indicates yes for potential\n",
        "\n",
        "train[\"HSmore\"]=0\n",
        "test[\"HSmore\"]=0"
      ],
      "execution_count": 115,
      "outputs": []
    },
    {
      "cell_type": "code",
      "metadata": {
        "id": "PmOV1QQ5wPOy"
      },
      "source": [
        "train['HSmore'] = pd.to_numeric(train['HSmore'])\n",
        "test['HSmore'] = pd.to_numeric(test['HSmore'])"
      ],
      "execution_count": 116,
      "outputs": []
    },
    {
      "cell_type": "code",
      "metadata": {
        "id": "NvxhpG4osrmG",
        "outputId": "f1d16544-b7ae-4154-ad76-3246fd402d56",
        "colab": {
          "base_uri": "https://localhost:8080/",
          "height": 204
        }
      },
      "source": [
        "train.head(5)"
      ],
      "execution_count": 117,
      "outputs": [
        {
          "output_type": "execute_result",
          "data": {
            "text/html": [
              "<div>\n",
              "<style scoped>\n",
              "    .dataframe tbody tr th:only-of-type {\n",
              "        vertical-align: middle;\n",
              "    }\n",
              "\n",
              "    .dataframe tbody tr th {\n",
              "        vertical-align: top;\n",
              "    }\n",
              "\n",
              "    .dataframe thead th {\n",
              "        text-align: right;\n",
              "    }\n",
              "</style>\n",
              "<table border=\"1\" class=\"dataframe\">\n",
              "  <thead>\n",
              "    <tr style=\"text-align: right;\">\n",
              "      <th></th>\n",
              "      <th>PLAYER</th>\n",
              "      <th>Mat</th>\n",
              "      <th>Inns</th>\n",
              "      <th>NO</th>\n",
              "      <th>2018_Runs</th>\n",
              "      <th>HS</th>\n",
              "      <th>Avg</th>\n",
              "      <th>BF</th>\n",
              "      <th>SR</th>\n",
              "      <th>100</th>\n",
              "      <th>50</th>\n",
              "      <th>4s</th>\n",
              "      <th>6s</th>\n",
              "      <th>2019_Runs</th>\n",
              "      <th>HSmore</th>\n",
              "    </tr>\n",
              "  </thead>\n",
              "  <tbody>\n",
              "    <tr>\n",
              "      <th>0</th>\n",
              "      <td>Aaron Finch</td>\n",
              "      <td>10</td>\n",
              "      <td>9</td>\n",
              "      <td>1</td>\n",
              "      <td>134</td>\n",
              "      <td>46</td>\n",
              "      <td>16.75</td>\n",
              "      <td>100</td>\n",
              "      <td>134.00</td>\n",
              "      <td>0</td>\n",
              "      <td>0</td>\n",
              "      <td>6</td>\n",
              "      <td>8</td>\n",
              "      <td>160</td>\n",
              "      <td>0</td>\n",
              "    </tr>\n",
              "    <tr>\n",
              "      <th>1</th>\n",
              "      <td>AB de Villiers</td>\n",
              "      <td>12</td>\n",
              "      <td>11</td>\n",
              "      <td>2</td>\n",
              "      <td>480</td>\n",
              "      <td>90*</td>\n",
              "      <td>53.33</td>\n",
              "      <td>275</td>\n",
              "      <td>174.54</td>\n",
              "      <td>0</td>\n",
              "      <td>6</td>\n",
              "      <td>39</td>\n",
              "      <td>30</td>\n",
              "      <td>424</td>\n",
              "      <td>0</td>\n",
              "    </tr>\n",
              "    <tr>\n",
              "      <th>2</th>\n",
              "      <td>Abhishek Sharma</td>\n",
              "      <td>3</td>\n",
              "      <td>3</td>\n",
              "      <td>2</td>\n",
              "      <td>63</td>\n",
              "      <td>46*</td>\n",
              "      <td>63.00</td>\n",
              "      <td>33</td>\n",
              "      <td>190.90</td>\n",
              "      <td>0</td>\n",
              "      <td>0</td>\n",
              "      <td>3</td>\n",
              "      <td>5</td>\n",
              "      <td>63</td>\n",
              "      <td>0</td>\n",
              "    </tr>\n",
              "    <tr>\n",
              "      <th>3</th>\n",
              "      <td>Ajinkya Rahane</td>\n",
              "      <td>15</td>\n",
              "      <td>14</td>\n",
              "      <td>1</td>\n",
              "      <td>370</td>\n",
              "      <td>65*</td>\n",
              "      <td>28.46</td>\n",
              "      <td>313</td>\n",
              "      <td>118.21</td>\n",
              "      <td>0</td>\n",
              "      <td>1</td>\n",
              "      <td>39</td>\n",
              "      <td>5</td>\n",
              "      <td>396</td>\n",
              "      <td>0</td>\n",
              "    </tr>\n",
              "    <tr>\n",
              "      <th>4</th>\n",
              "      <td>Alex Hales</td>\n",
              "      <td>6</td>\n",
              "      <td>6</td>\n",
              "      <td>0</td>\n",
              "      <td>148</td>\n",
              "      <td>45</td>\n",
              "      <td>24.66</td>\n",
              "      <td>118</td>\n",
              "      <td>125.42</td>\n",
              "      <td>0</td>\n",
              "      <td>0</td>\n",
              "      <td>13</td>\n",
              "      <td>6</td>\n",
              "      <td>165</td>\n",
              "      <td>0</td>\n",
              "    </tr>\n",
              "  </tbody>\n",
              "</table>\n",
              "</div>"
            ],
            "text/plain": [
              "            PLAYER  Mat  Inns  NO  2018_Runs  ... 50  4s  6s  2019_Runs  HSmore\n",
              "0      Aaron Finch   10     9   1        134  ...  0   6   8        160       0\n",
              "1   AB de Villiers   12    11   2        480  ...  6  39  30        424       0\n",
              "2  Abhishek Sharma    3     3   2         63  ...  0   3   5         63       0\n",
              "3   Ajinkya Rahane   15    14   1        370  ...  1  39   5        396       0\n",
              "4       Alex Hales    6     6   0        148  ...  0  13   6        165       0\n",
              "\n",
              "[5 rows x 15 columns]"
            ]
          },
          "metadata": {
            "tags": []
          },
          "execution_count": 117
        }
      ]
    },
    {
      "cell_type": "code",
      "metadata": {
        "id": "L50jxE1yryJO"
      },
      "source": [
        "for i in range(len(train)):\n",
        "  if (type(train.iloc[i,5]) == str):\n",
        "    train.iloc[i, 5] = int(train.iloc[i, 5].strip('*'))\n",
        "    # train.loc[i,14]=train.loc[i,14].replace({0:1},inplace=True)\n",
        "    train.iloc[i,14]= train.iloc[i,14]+1\n",
        "    \n",
        "for i in range(len(test)):\n",
        "  if (type(test.iloc[i,5]) == str):\n",
        "    test.iloc[i, 5] = int(test.iloc[i, 5].strip('*'))\n",
        "    # train.loc[i,14]=train.loc[i,14].replace({0:1},inplace=True)\n",
        "    test.iloc[i,13]= test.iloc[i,13]+1\n",
        "    "
      ],
      "execution_count": 120,
      "outputs": []
    },
    {
      "cell_type": "code",
      "metadata": {
        "id": "JGwIh53Hwqv-",
        "outputId": "055d3583-972b-47be-a6fd-87b0b80b57c2",
        "colab": {
          "base_uri": "https://localhost:8080/",
          "height": 419
        }
      },
      "source": [
        "test"
      ],
      "execution_count": 121,
      "outputs": [
        {
          "output_type": "execute_result",
          "data": {
            "text/html": [
              "<div>\n",
              "<style scoped>\n",
              "    .dataframe tbody tr th:only-of-type {\n",
              "        vertical-align: middle;\n",
              "    }\n",
              "\n",
              "    .dataframe tbody tr th {\n",
              "        vertical-align: top;\n",
              "    }\n",
              "\n",
              "    .dataframe thead th {\n",
              "        text-align: right;\n",
              "    }\n",
              "</style>\n",
              "<table border=\"1\" class=\"dataframe\">\n",
              "  <thead>\n",
              "    <tr style=\"text-align: right;\">\n",
              "      <th></th>\n",
              "      <th>PLAYER</th>\n",
              "      <th>Mat</th>\n",
              "      <th>Inns</th>\n",
              "      <th>NO</th>\n",
              "      <th>2019_Runs</th>\n",
              "      <th>HS</th>\n",
              "      <th>Avg</th>\n",
              "      <th>BF</th>\n",
              "      <th>SR</th>\n",
              "      <th>100</th>\n",
              "      <th>50</th>\n",
              "      <th>4s</th>\n",
              "      <th>6s</th>\n",
              "      <th>HSmore</th>\n",
              "    </tr>\n",
              "  </thead>\n",
              "  <tbody>\n",
              "    <tr>\n",
              "      <th>0</th>\n",
              "      <td>David Warner</td>\n",
              "      <td>12</td>\n",
              "      <td>12</td>\n",
              "      <td>2</td>\n",
              "      <td>692</td>\n",
              "      <td>100</td>\n",
              "      <td>69.20</td>\n",
              "      <td>481</td>\n",
              "      <td>143.86</td>\n",
              "      <td>1</td>\n",
              "      <td>8</td>\n",
              "      <td>57</td>\n",
              "      <td>21</td>\n",
              "      <td>1</td>\n",
              "    </tr>\n",
              "    <tr>\n",
              "      <th>1</th>\n",
              "      <td>KL Rahul</td>\n",
              "      <td>14</td>\n",
              "      <td>14</td>\n",
              "      <td>3</td>\n",
              "      <td>593</td>\n",
              "      <td>100</td>\n",
              "      <td>53.90</td>\n",
              "      <td>438</td>\n",
              "      <td>135.38</td>\n",
              "      <td>1</td>\n",
              "      <td>6</td>\n",
              "      <td>49</td>\n",
              "      <td>25</td>\n",
              "      <td>1</td>\n",
              "    </tr>\n",
              "    <tr>\n",
              "      <th>2</th>\n",
              "      <td>Quinton de Kock</td>\n",
              "      <td>16</td>\n",
              "      <td>16</td>\n",
              "      <td>1</td>\n",
              "      <td>529</td>\n",
              "      <td>81</td>\n",
              "      <td>35.26</td>\n",
              "      <td>398</td>\n",
              "      <td>132.91</td>\n",
              "      <td>0</td>\n",
              "      <td>4</td>\n",
              "      <td>45</td>\n",
              "      <td>25</td>\n",
              "      <td>0</td>\n",
              "    </tr>\n",
              "    <tr>\n",
              "      <th>3</th>\n",
              "      <td>Shikhar Dhawan</td>\n",
              "      <td>16</td>\n",
              "      <td>16</td>\n",
              "      <td>1</td>\n",
              "      <td>521</td>\n",
              "      <td>97</td>\n",
              "      <td>34.73</td>\n",
              "      <td>384</td>\n",
              "      <td>135.67</td>\n",
              "      <td>0</td>\n",
              "      <td>5</td>\n",
              "      <td>64</td>\n",
              "      <td>11</td>\n",
              "      <td>1</td>\n",
              "    </tr>\n",
              "    <tr>\n",
              "      <th>4</th>\n",
              "      <td>Andre Russell</td>\n",
              "      <td>14</td>\n",
              "      <td>13</td>\n",
              "      <td>4</td>\n",
              "      <td>510</td>\n",
              "      <td>80</td>\n",
              "      <td>56.66</td>\n",
              "      <td>249</td>\n",
              "      <td>204.81</td>\n",
              "      <td>0</td>\n",
              "      <td>4</td>\n",
              "      <td>31</td>\n",
              "      <td>52</td>\n",
              "      <td>1</td>\n",
              "    </tr>\n",
              "    <tr>\n",
              "      <th>...</th>\n",
              "      <td>...</td>\n",
              "      <td>...</td>\n",
              "      <td>...</td>\n",
              "      <td>...</td>\n",
              "      <td>...</td>\n",
              "      <td>...</td>\n",
              "      <td>...</td>\n",
              "      <td>...</td>\n",
              "      <td>...</td>\n",
              "      <td>...</td>\n",
              "      <td>...</td>\n",
              "      <td>...</td>\n",
              "      <td>...</td>\n",
              "      <td>...</td>\n",
              "    </tr>\n",
              "    <tr>\n",
              "      <th>95</th>\n",
              "      <td>Carlos Brathwaite</td>\n",
              "      <td>2</td>\n",
              "      <td>2</td>\n",
              "      <td>0</td>\n",
              "      <td>11</td>\n",
              "      <td>6</td>\n",
              "      <td>5.50</td>\n",
              "      <td>10</td>\n",
              "      <td>110.00</td>\n",
              "      <td>0</td>\n",
              "      <td>0</td>\n",
              "      <td>1</td>\n",
              "      <td>0</td>\n",
              "      <td>0</td>\n",
              "    </tr>\n",
              "    <tr>\n",
              "      <th>96</th>\n",
              "      <td>Ishant Sharma</td>\n",
              "      <td>13</td>\n",
              "      <td>3</td>\n",
              "      <td>3</td>\n",
              "      <td>10</td>\n",
              "      <td>10</td>\n",
              "      <td>0.00</td>\n",
              "      <td>3</td>\n",
              "      <td>333.33</td>\n",
              "      <td>0</td>\n",
              "      <td>0</td>\n",
              "      <td>1</td>\n",
              "      <td>1</td>\n",
              "      <td>1</td>\n",
              "    </tr>\n",
              "    <tr>\n",
              "      <th>97</th>\n",
              "      <td>Shakib Al Hasan</td>\n",
              "      <td>3</td>\n",
              "      <td>1</td>\n",
              "      <td>0</td>\n",
              "      <td>9</td>\n",
              "      <td>9</td>\n",
              "      <td>9.00</td>\n",
              "      <td>10</td>\n",
              "      <td>90.00</td>\n",
              "      <td>0</td>\n",
              "      <td>0</td>\n",
              "      <td>0</td>\n",
              "      <td>0</td>\n",
              "      <td>0</td>\n",
              "    </tr>\n",
              "    <tr>\n",
              "      <th>98</th>\n",
              "      <td>Pawan Negi</td>\n",
              "      <td>7</td>\n",
              "      <td>4</td>\n",
              "      <td>0</td>\n",
              "      <td>9</td>\n",
              "      <td>5</td>\n",
              "      <td>2.25</td>\n",
              "      <td>12</td>\n",
              "      <td>75.00</td>\n",
              "      <td>0</td>\n",
              "      <td>0</td>\n",
              "      <td>1</td>\n",
              "      <td>0</td>\n",
              "      <td>0</td>\n",
              "    </tr>\n",
              "    <tr>\n",
              "      <th>99</th>\n",
              "      <td>Tim Southee</td>\n",
              "      <td>3</td>\n",
              "      <td>1</td>\n",
              "      <td>1</td>\n",
              "      <td>9</td>\n",
              "      <td>9</td>\n",
              "      <td>0.00</td>\n",
              "      <td>9</td>\n",
              "      <td>100.00</td>\n",
              "      <td>0</td>\n",
              "      <td>0</td>\n",
              "      <td>0</td>\n",
              "      <td>0</td>\n",
              "      <td>1</td>\n",
              "    </tr>\n",
              "  </tbody>\n",
              "</table>\n",
              "<p>100 rows × 14 columns</p>\n",
              "</div>"
            ],
            "text/plain": [
              "               PLAYER  Mat  Inns  NO  2019_Runs  ... 100  50  4s  6s  HSmore\n",
              "0        David Warner   12    12   2        692  ...   1   8  57  21       1\n",
              "1            KL Rahul   14    14   3        593  ...   1   6  49  25       1\n",
              "2     Quinton de Kock   16    16   1        529  ...   0   4  45  25       0\n",
              "3      Shikhar Dhawan   16    16   1        521  ...   0   5  64  11       1\n",
              "4       Andre Russell   14    13   4        510  ...   0   4  31  52       1\n",
              "..                ...  ...   ...  ..        ...  ...  ..  ..  ..  ..     ...\n",
              "95  Carlos Brathwaite    2     2   0         11  ...   0   0   1   0       0\n",
              "96      Ishant Sharma   13     3   3         10  ...   0   0   1   1       1\n",
              "97    Shakib Al Hasan    3     1   0          9  ...   0   0   0   0       0\n",
              "98         Pawan Negi    7     4   0          9  ...   0   0   1   0       0\n",
              "99        Tim Southee    3     1   1          9  ...   0   0   0   0       1\n",
              "\n",
              "[100 rows x 14 columns]"
            ]
          },
          "metadata": {
            "tags": []
          },
          "execution_count": 121
        }
      ]
    },
    {
      "cell_type": "code",
      "metadata": {
        "id": "CrYAZC4vs8nK",
        "outputId": "d908acd5-ab01-4696-9ed9-fc7856452450",
        "colab": {
          "base_uri": "https://localhost:8080/",
          "height": 204
        }
      },
      "source": [
        "train.head(5)"
      ],
      "execution_count": 122,
      "outputs": [
        {
          "output_type": "execute_result",
          "data": {
            "text/html": [
              "<div>\n",
              "<style scoped>\n",
              "    .dataframe tbody tr th:only-of-type {\n",
              "        vertical-align: middle;\n",
              "    }\n",
              "\n",
              "    .dataframe tbody tr th {\n",
              "        vertical-align: top;\n",
              "    }\n",
              "\n",
              "    .dataframe thead th {\n",
              "        text-align: right;\n",
              "    }\n",
              "</style>\n",
              "<table border=\"1\" class=\"dataframe\">\n",
              "  <thead>\n",
              "    <tr style=\"text-align: right;\">\n",
              "      <th></th>\n",
              "      <th>PLAYER</th>\n",
              "      <th>Mat</th>\n",
              "      <th>Inns</th>\n",
              "      <th>NO</th>\n",
              "      <th>2018_Runs</th>\n",
              "      <th>HS</th>\n",
              "      <th>Avg</th>\n",
              "      <th>BF</th>\n",
              "      <th>SR</th>\n",
              "      <th>100</th>\n",
              "      <th>50</th>\n",
              "      <th>4s</th>\n",
              "      <th>6s</th>\n",
              "      <th>2019_Runs</th>\n",
              "      <th>HSmore</th>\n",
              "    </tr>\n",
              "  </thead>\n",
              "  <tbody>\n",
              "    <tr>\n",
              "      <th>0</th>\n",
              "      <td>Aaron Finch</td>\n",
              "      <td>10</td>\n",
              "      <td>9</td>\n",
              "      <td>1</td>\n",
              "      <td>134</td>\n",
              "      <td>46</td>\n",
              "      <td>16.75</td>\n",
              "      <td>100</td>\n",
              "      <td>134.00</td>\n",
              "      <td>0</td>\n",
              "      <td>0</td>\n",
              "      <td>6</td>\n",
              "      <td>8</td>\n",
              "      <td>160</td>\n",
              "      <td>0</td>\n",
              "    </tr>\n",
              "    <tr>\n",
              "      <th>1</th>\n",
              "      <td>AB de Villiers</td>\n",
              "      <td>12</td>\n",
              "      <td>11</td>\n",
              "      <td>2</td>\n",
              "      <td>480</td>\n",
              "      <td>90</td>\n",
              "      <td>53.33</td>\n",
              "      <td>275</td>\n",
              "      <td>174.54</td>\n",
              "      <td>0</td>\n",
              "      <td>6</td>\n",
              "      <td>39</td>\n",
              "      <td>30</td>\n",
              "      <td>424</td>\n",
              "      <td>1</td>\n",
              "    </tr>\n",
              "    <tr>\n",
              "      <th>2</th>\n",
              "      <td>Abhishek Sharma</td>\n",
              "      <td>3</td>\n",
              "      <td>3</td>\n",
              "      <td>2</td>\n",
              "      <td>63</td>\n",
              "      <td>46</td>\n",
              "      <td>63.00</td>\n",
              "      <td>33</td>\n",
              "      <td>190.90</td>\n",
              "      <td>0</td>\n",
              "      <td>0</td>\n",
              "      <td>3</td>\n",
              "      <td>5</td>\n",
              "      <td>63</td>\n",
              "      <td>1</td>\n",
              "    </tr>\n",
              "    <tr>\n",
              "      <th>3</th>\n",
              "      <td>Ajinkya Rahane</td>\n",
              "      <td>15</td>\n",
              "      <td>14</td>\n",
              "      <td>1</td>\n",
              "      <td>370</td>\n",
              "      <td>65</td>\n",
              "      <td>28.46</td>\n",
              "      <td>313</td>\n",
              "      <td>118.21</td>\n",
              "      <td>0</td>\n",
              "      <td>1</td>\n",
              "      <td>39</td>\n",
              "      <td>5</td>\n",
              "      <td>396</td>\n",
              "      <td>1</td>\n",
              "    </tr>\n",
              "    <tr>\n",
              "      <th>4</th>\n",
              "      <td>Alex Hales</td>\n",
              "      <td>6</td>\n",
              "      <td>6</td>\n",
              "      <td>0</td>\n",
              "      <td>148</td>\n",
              "      <td>45</td>\n",
              "      <td>24.66</td>\n",
              "      <td>118</td>\n",
              "      <td>125.42</td>\n",
              "      <td>0</td>\n",
              "      <td>0</td>\n",
              "      <td>13</td>\n",
              "      <td>6</td>\n",
              "      <td>165</td>\n",
              "      <td>0</td>\n",
              "    </tr>\n",
              "  </tbody>\n",
              "</table>\n",
              "</div>"
            ],
            "text/plain": [
              "            PLAYER  Mat  Inns  NO  2018_Runs  ... 50  4s  6s  2019_Runs  HSmore\n",
              "0      Aaron Finch   10     9   1        134  ...  0   6   8        160       0\n",
              "1   AB de Villiers   12    11   2        480  ...  6  39  30        424       1\n",
              "2  Abhishek Sharma    3     3   2         63  ...  0   3   5         63       1\n",
              "3   Ajinkya Rahane   15    14   1        370  ...  1  39   5        396       1\n",
              "4       Alex Hales    6     6   0        148  ...  0  13   6        165       0\n",
              "\n",
              "[5 rows x 15 columns]"
            ]
          },
          "metadata": {
            "tags": []
          },
          "execution_count": 122
        }
      ]
    },
    {
      "cell_type": "code",
      "metadata": {
        "id": "s5Tyh6uqyVrj"
      },
      "source": [
        "train['HS'] = pd.to_numeric(train['HS'])\n",
        "test['HS'] = pd.to_numeric(test['HS'])"
      ],
      "execution_count": 123,
      "outputs": []
    },
    {
      "cell_type": "code",
      "metadata": {
        "id": "136PZLaFyZmP"
      },
      "source": [
        "train.drop(['PLAYER'],axis=1,inplace=True)\n",
        "test.drop(['PLAYER'],axis=1,inplace=True)"
      ],
      "execution_count": 124,
      "outputs": []
    },
    {
      "cell_type": "code",
      "metadata": {
        "id": "spfMl8pYydxy"
      },
      "source": [
        "train=train.rename(columns={'2018_Runs':'PrevRuns'})\n",
        "test=test.rename(columns={'2019_Runs':'PrevRuns'})"
      ],
      "execution_count": 125,
      "outputs": []
    },
    {
      "cell_type": "code",
      "metadata": {
        "id": "oDKPNkKN2swU"
      },
      "source": [
        "from sklearn.preprocessing import MinMaxScaler\n",
        "continuous = ['Mat',\n",
        "'Inns',\n",
        "'NO',\n",
        "'PrevRuns',\n",
        "'HS',\n",
        "'Avg',\n",
        "'BF',\n",
        "'SR',\n",
        "'4s',\n",
        "'6s',\n",
        "'HSmore' ]\n",
        "\n",
        "scaler = MinMaxScaler()\n",
        "\n",
        "for var in continuous:\n",
        "    train[var] = train[var].astype('float64')\n",
        "    train[var] = scaler.fit_transform(train[var].values.reshape(-1, 1))\n",
        "\n",
        "for var in continuous:\n",
        "    test[var] = test[var].astype('float64')\n",
        "    test[var] = scaler.fit_transform(test[var].values.reshape(-1, 1))"
      ],
      "execution_count": 126,
      "outputs": []
    },
    {
      "cell_type": "code",
      "metadata": {
        "id": "M1ZifeRzygvn"
      },
      "source": [
        "train_y=train['2019_Runs']\n",
        "train_x=train.drop(['2019_Runs'],axis=1)\n",
        "from sklearn.model_selection import train_test_split\n",
        "X_train,X_test,y_train,y_test=train_test_split(train_x,train_y,test_size=0.1,random_state=101)"
      ],
      "execution_count": 127,
      "outputs": []
    },
    {
      "cell_type": "code",
      "metadata": {
        "id": "YWygaiMHyj_d",
        "outputId": "ee9dd9c5-6a00-43c8-d1d1-127bee000ef2",
        "colab": {
          "base_uri": "https://localhost:8080/",
          "height": 419
        }
      },
      "source": [
        "X_train"
      ],
      "execution_count": 128,
      "outputs": [
        {
          "output_type": "execute_result",
          "data": {
            "text/html": [
              "<div>\n",
              "<style scoped>\n",
              "    .dataframe tbody tr th:only-of-type {\n",
              "        vertical-align: middle;\n",
              "    }\n",
              "\n",
              "    .dataframe tbody tr th {\n",
              "        vertical-align: top;\n",
              "    }\n",
              "\n",
              "    .dataframe thead th {\n",
              "        text-align: right;\n",
              "    }\n",
              "</style>\n",
              "<table border=\"1\" class=\"dataframe\">\n",
              "  <thead>\n",
              "    <tr style=\"text-align: right;\">\n",
              "      <th></th>\n",
              "      <th>Mat</th>\n",
              "      <th>Inns</th>\n",
              "      <th>NO</th>\n",
              "      <th>PrevRuns</th>\n",
              "      <th>HS</th>\n",
              "      <th>Avg</th>\n",
              "      <th>BF</th>\n",
              "      <th>SR</th>\n",
              "      <th>100</th>\n",
              "      <th>50</th>\n",
              "      <th>4s</th>\n",
              "      <th>6s</th>\n",
              "      <th>HSmore</th>\n",
              "    </tr>\n",
              "  </thead>\n",
              "  <tbody>\n",
              "    <tr>\n",
              "      <th>82</th>\n",
              "      <td>0.9375</td>\n",
              "      <td>0.9375</td>\n",
              "      <td>0.333333</td>\n",
              "      <td>0.670360</td>\n",
              "      <td>0.702479</td>\n",
              "      <td>0.504154</td>\n",
              "      <td>0.700587</td>\n",
              "      <td>0.286508</td>\n",
              "      <td>0</td>\n",
              "      <td>4</td>\n",
              "      <td>0.867647</td>\n",
              "      <td>0.378378</td>\n",
              "      <td>1.0</td>\n",
              "    </tr>\n",
              "    <tr>\n",
              "      <th>25</th>\n",
              "      <td>0.5000</td>\n",
              "      <td>0.4375</td>\n",
              "      <td>0.444444</td>\n",
              "      <td>0.102493</td>\n",
              "      <td>0.206612</td>\n",
              "      <td>0.286826</td>\n",
              "      <td>0.148728</td>\n",
              "      <td>0.157407</td>\n",
              "      <td>0</td>\n",
              "      <td>0</td>\n",
              "      <td>0.029412</td>\n",
              "      <td>0.081081</td>\n",
              "      <td>1.0</td>\n",
              "    </tr>\n",
              "    <tr>\n",
              "      <th>45</th>\n",
              "      <td>0.5000</td>\n",
              "      <td>0.4375</td>\n",
              "      <td>0.111111</td>\n",
              "      <td>0.166205</td>\n",
              "      <td>0.355372</td>\n",
              "      <td>0.250560</td>\n",
              "      <td>0.185910</td>\n",
              "      <td>0.269402</td>\n",
              "      <td>0</td>\n",
              "      <td>1</td>\n",
              "      <td>0.147059</td>\n",
              "      <td>0.189189</td>\n",
              "      <td>0.0</td>\n",
              "    </tr>\n",
              "    <tr>\n",
              "      <th>68</th>\n",
              "      <td>0.6875</td>\n",
              "      <td>0.6875</td>\n",
              "      <td>0.333333</td>\n",
              "      <td>0.295014</td>\n",
              "      <td>0.603306</td>\n",
              "      <td>0.331135</td>\n",
              "      <td>0.317025</td>\n",
              "      <td>0.279552</td>\n",
              "      <td>0</td>\n",
              "      <td>1</td>\n",
              "      <td>0.264706</td>\n",
              "      <td>0.216216</td>\n",
              "      <td>1.0</td>\n",
              "    </tr>\n",
              "    <tr>\n",
              "      <th>37</th>\n",
              "      <td>0.2500</td>\n",
              "      <td>0.2500</td>\n",
              "      <td>0.111111</td>\n",
              "      <td>0.148199</td>\n",
              "      <td>0.694215</td>\n",
              "      <td>0.395622</td>\n",
              "      <td>0.174168</td>\n",
              "      <td>0.245997</td>\n",
              "      <td>0</td>\n",
              "      <td>1</td>\n",
              "      <td>0.132353</td>\n",
              "      <td>0.189189</td>\n",
              "      <td>1.0</td>\n",
              "    </tr>\n",
              "    <tr>\n",
              "      <th>...</th>\n",
              "      <td>...</td>\n",
              "      <td>...</td>\n",
              "      <td>...</td>\n",
              "      <td>...</td>\n",
              "      <td>...</td>\n",
              "      <td>...</td>\n",
              "      <td>...</td>\n",
              "      <td>...</td>\n",
              "      <td>...</td>\n",
              "      <td>...</td>\n",
              "      <td>...</td>\n",
              "      <td>...</td>\n",
              "      <td>...</td>\n",
              "    </tr>\n",
              "    <tr>\n",
              "      <th>63</th>\n",
              "      <td>0.3125</td>\n",
              "      <td>0.3125</td>\n",
              "      <td>0.111111</td>\n",
              "      <td>0.193906</td>\n",
              "      <td>0.380165</td>\n",
              "      <td>0.403534</td>\n",
              "      <td>0.203523</td>\n",
              "      <td>0.301601</td>\n",
              "      <td>0</td>\n",
              "      <td>1</td>\n",
              "      <td>0.294118</td>\n",
              "      <td>0.108108</td>\n",
              "      <td>0.0</td>\n",
              "    </tr>\n",
              "    <tr>\n",
              "      <th>70</th>\n",
              "      <td>0.8125</td>\n",
              "      <td>0.5000</td>\n",
              "      <td>0.111111</td>\n",
              "      <td>0.123269</td>\n",
              "      <td>0.314050</td>\n",
              "      <td>0.168139</td>\n",
              "      <td>0.129159</td>\n",
              "      <td>0.316038</td>\n",
              "      <td>0</td>\n",
              "      <td>0</td>\n",
              "      <td>0.102941</td>\n",
              "      <td>0.135135</td>\n",
              "      <td>0.0</td>\n",
              "    </tr>\n",
              "    <tr>\n",
              "      <th>81</th>\n",
              "      <td>0.7500</td>\n",
              "      <td>0.0000</td>\n",
              "      <td>0.111111</td>\n",
              "      <td>0.002770</td>\n",
              "      <td>0.066116</td>\n",
              "      <td>0.000000</td>\n",
              "      <td>0.000000</td>\n",
              "      <td>1.000000</td>\n",
              "      <td>0</td>\n",
              "      <td>0</td>\n",
              "      <td>0.044118</td>\n",
              "      <td>0.000000</td>\n",
              "      <td>1.0</td>\n",
              "    </tr>\n",
              "    <tr>\n",
              "      <th>11</th>\n",
              "      <td>0.6875</td>\n",
              "      <td>0.1875</td>\n",
              "      <td>0.222222</td>\n",
              "      <td>0.000000</td>\n",
              "      <td>0.000000</td>\n",
              "      <td>0.085718</td>\n",
              "      <td>0.021526</td>\n",
              "      <td>0.043005</td>\n",
              "      <td>0</td>\n",
              "      <td>0</td>\n",
              "      <td>0.014706</td>\n",
              "      <td>0.000000</td>\n",
              "      <td>0.0</td>\n",
              "    </tr>\n",
              "    <tr>\n",
              "      <th>95</th>\n",
              "      <td>0.8125</td>\n",
              "      <td>0.8125</td>\n",
              "      <td>0.333333</td>\n",
              "      <td>0.716066</td>\n",
              "      <td>0.702479</td>\n",
              "      <td>0.635369</td>\n",
              "      <td>0.735812</td>\n",
              "      <td>0.296089</td>\n",
              "      <td>0</td>\n",
              "      <td>4</td>\n",
              "      <td>0.764706</td>\n",
              "      <td>0.486486</td>\n",
              "      <td>1.0</td>\n",
              "    </tr>\n",
              "  </tbody>\n",
              "</table>\n",
              "<p>90 rows × 13 columns</p>\n",
              "</div>"
            ],
            "text/plain": [
              "       Mat    Inns        NO  PrevRuns  ...  50        4s        6s  HSmore\n",
              "82  0.9375  0.9375  0.333333  0.670360  ...   4  0.867647  0.378378     1.0\n",
              "25  0.5000  0.4375  0.444444  0.102493  ...   0  0.029412  0.081081     1.0\n",
              "45  0.5000  0.4375  0.111111  0.166205  ...   1  0.147059  0.189189     0.0\n",
              "68  0.6875  0.6875  0.333333  0.295014  ...   1  0.264706  0.216216     1.0\n",
              "37  0.2500  0.2500  0.111111  0.148199  ...   1  0.132353  0.189189     1.0\n",
              "..     ...     ...       ...       ...  ...  ..       ...       ...     ...\n",
              "63  0.3125  0.3125  0.111111  0.193906  ...   1  0.294118  0.108108     0.0\n",
              "70  0.8125  0.5000  0.111111  0.123269  ...   0  0.102941  0.135135     0.0\n",
              "81  0.7500  0.0000  0.111111  0.002770  ...   0  0.044118  0.000000     1.0\n",
              "11  0.6875  0.1875  0.222222  0.000000  ...   0  0.014706  0.000000     0.0\n",
              "95  0.8125  0.8125  0.333333  0.716066  ...   4  0.764706  0.486486     1.0\n",
              "\n",
              "[90 rows x 13 columns]"
            ]
          },
          "metadata": {
            "tags": []
          },
          "execution_count": 128
        }
      ]
    },
    {
      "cell_type": "code",
      "metadata": {
        "id": "gqautLRq6ZwG"
      },
      "source": [
        "from sklearn.linear_model import LinearRegression\n",
        "obj=LinearRegression()\n",
        "obj.fit(X_train,y_train)\n",
        "predictions=obj.predict(X_test)"
      ],
      "execution_count": 129,
      "outputs": []
    },
    {
      "cell_type": "code",
      "metadata": {
        "id": "0tAav2Mm6dTA",
        "outputId": "94407e94-fa76-4cb9-a8bc-9de5761510be",
        "colab": {
          "base_uri": "https://localhost:8080/",
          "height": 34
        }
      },
      "source": [
        "obj.score(X_test,y_test)"
      ],
      "execution_count": 130,
      "outputs": [
        {
          "output_type": "execute_result",
          "data": {
            "text/plain": [
              "0.9618866696630731"
            ]
          },
          "metadata": {
            "tags": []
          },
          "execution_count": 130
        }
      ]
    },
    {
      "cell_type": "code",
      "metadata": {
        "id": "i1_mIpvS6hDv",
        "outputId": "cc10add1-e185-4767-c914-fd0068e9bf13",
        "colab": {
          "base_uri": "https://localhost:8080/",
          "height": 34
        }
      },
      "source": [
        "from sklearn.metrics import mean_squared_log_error\n",
        "mean_squared_log_error(y_test,predictions)"
      ],
      "execution_count": 131,
      "outputs": [
        {
          "output_type": "execute_result",
          "data": {
            "text/plain": [
              "0.10303993547488106"
            ]
          },
          "metadata": {
            "tags": []
          },
          "execution_count": 131
        }
      ]
    },
    {
      "cell_type": "code",
      "metadata": {
        "id": "BhzDqyuO6mwS",
        "outputId": "79356ece-e0cf-4b19-f7a7-8051b23b2a67",
        "colab": {
          "base_uri": "https://localhost:8080/",
          "height": 34
        }
      },
      "source": [
        "from sklearn.metrics import mean_absolute_error\n",
        "mean_absolute_error(y_test,predictions)"
      ],
      "execution_count": 132,
      "outputs": [
        {
          "output_type": "execute_result",
          "data": {
            "text/plain": [
              "27.406275477269514"
            ]
          },
          "metadata": {
            "tags": []
          },
          "execution_count": 132
        }
      ]
    },
    {
      "cell_type": "code",
      "metadata": {
        "id": "1diIYrx06vtq",
        "outputId": "6f8a388a-c871-47f5-883f-cb4398e70cea",
        "colab": {
          "base_uri": "https://localhost:8080/",
          "height": 34
        }
      },
      "source": [
        "from sklearn import tree\n",
        "model=tree.DecisionTreeRegressor()\n",
        "model.fit(X_train,y_train)\n",
        "model.score(X_test,y_test)"
      ],
      "execution_count": 133,
      "outputs": [
        {
          "output_type": "execute_result",
          "data": {
            "text/plain": [
              "0.9747815881926892"
            ]
          },
          "metadata": {
            "tags": []
          },
          "execution_count": 133
        }
      ]
    },
    {
      "cell_type": "code",
      "metadata": {
        "id": "loCd07aK61-N",
        "outputId": "56353ea7-37be-463a-af52-cc2172cfa074",
        "colab": {
          "base_uri": "https://localhost:8080/",
          "height": 34
        }
      },
      "source": [
        "predictions=model.predict(X_test)\n",
        "mean_squared_log_error(y_test,predictions)"
      ],
      "execution_count": 134,
      "outputs": [
        {
          "output_type": "execute_result",
          "data": {
            "text/plain": [
              "0.008028447679659552"
            ]
          },
          "metadata": {
            "tags": []
          },
          "execution_count": 134
        }
      ]
    },
    {
      "cell_type": "code",
      "metadata": {
        "id": "gkTT5uta67Dj",
        "outputId": "8f88e29b-89ad-4fe4-f840-974f5c091b4b",
        "colab": {
          "base_uri": "https://localhost:8080/",
          "height": 34
        }
      },
      "source": [
        "from sklearn.metrics import mean_absolute_error\n",
        "mean_absolute_error(y_test,predictions)"
      ],
      "execution_count": 135,
      "outputs": [
        {
          "output_type": "execute_result",
          "data": {
            "text/plain": [
              "17.1"
            ]
          },
          "metadata": {
            "tags": []
          },
          "execution_count": 135
        }
      ]
    },
    {
      "cell_type": "code",
      "metadata": {
        "id": "_2iJUR1V7Amg",
        "outputId": "4f151592-8d3f-4315-cacf-613f14b13891",
        "colab": {
          "base_uri": "https://localhost:8080/",
          "height": 34
        }
      },
      "source": [
        "from sklearn.ensemble import RandomForestRegressor \n",
        "regr= RandomForestRegressor(max_depth=2,random_state=0,n_estimators=100)\n",
        "regr.fit(X_train,y_train)\n",
        "regr.score(X_test,y_test)"
      ],
      "execution_count": 136,
      "outputs": [
        {
          "output_type": "execute_result",
          "data": {
            "text/plain": [
              "0.9796103318614938"
            ]
          },
          "metadata": {
            "tags": []
          },
          "execution_count": 136
        }
      ]
    },
    {
      "cell_type": "code",
      "metadata": {
        "id": "bFXjquq47EYt",
        "outputId": "156009ad-c654-403f-ea4a-dd836179ae1b",
        "colab": {
          "base_uri": "https://localhost:8080/",
          "height": 34
        }
      },
      "source": [
        "pred=regr.predict(X_test)\n",
        "\n",
        "mean_squared_log_error(y_test,pred)"
      ],
      "execution_count": 137,
      "outputs": [
        {
          "output_type": "execute_result",
          "data": {
            "text/plain": [
              "0.17501221155406005"
            ]
          },
          "metadata": {
            "tags": []
          },
          "execution_count": 137
        }
      ]
    },
    {
      "cell_type": "code",
      "metadata": {
        "id": "uoyLkkOC7H19",
        "outputId": "455b2f67-dfed-4b1b-988d-00f6ff3f352f",
        "colab": {
          "base_uri": "https://localhost:8080/",
          "height": 34
        }
      },
      "source": [
        "mean_absolute_error(y_test,pred)"
      ],
      "execution_count": 139,
      "outputs": [
        {
          "output_type": "execute_result",
          "data": {
            "text/plain": [
              "19.728677623935166"
            ]
          },
          "metadata": {
            "tags": []
          },
          "execution_count": 139
        }
      ]
    },
    {
      "cell_type": "code",
      "metadata": {
        "id": "OVreJK67ymkH",
        "outputId": "5de4d5be-8125-4af6-cf02-56c6484bc276",
        "colab": {
          "base_uri": "https://localhost:8080/",
          "height": 153
        }
      },
      "source": [
        "#### BESTT MODEL\n",
        "\n",
        "import xgboost as xgb\n",
        "model_xgb = xgb.XGBRegressor()\n",
        "model_xgb.fit(X_train,y_train)"
      ],
      "execution_count": 143,
      "outputs": [
        {
          "output_type": "stream",
          "text": [
            "[15:01:36] WARNING: /workspace/src/objective/regression_obj.cu:152: reg:linear is now deprecated in favor of reg:squarederror.\n"
          ],
          "name": "stdout"
        },
        {
          "output_type": "execute_result",
          "data": {
            "text/plain": [
              "XGBRegressor(base_score=0.5, booster='gbtree', colsample_bylevel=1,\n",
              "             colsample_bynode=1, colsample_bytree=1, gamma=0,\n",
              "             importance_type='gain', learning_rate=0.1, max_delta_step=0,\n",
              "             max_depth=3, min_child_weight=1, missing=None, n_estimators=100,\n",
              "             n_jobs=1, nthread=None, objective='reg:linear', random_state=0,\n",
              "             reg_alpha=0, reg_lambda=1, scale_pos_weight=1, seed=None,\n",
              "             silent=None, subsample=1, verbosity=1)"
            ]
          },
          "metadata": {
            "tags": []
          },
          "execution_count": 143
        }
      ]
    },
    {
      "cell_type": "code",
      "metadata": {
        "id": "UQUwM3vryrSv",
        "outputId": "47465949-2ccf-469b-b8ae-c4e953a99055",
        "colab": {
          "base_uri": "https://localhost:8080/",
          "height": 34
        }
      },
      "source": [
        "### BEST \n",
        "\n",
        "pre=model_xgb.predict(X_test)\n",
        "model_xgb.score(X_test,y_test)"
      ],
      "execution_count": 144,
      "outputs": [
        {
          "output_type": "execute_result",
          "data": {
            "text/plain": [
              "0.9980541137557692"
            ]
          },
          "metadata": {
            "tags": []
          },
          "execution_count": 144
        }
      ]
    },
    {
      "cell_type": "code",
      "metadata": {
        "id": "vy9IP-VuBWLe",
        "outputId": "15ffcaab-f57b-465f-c255-dd42317035a2",
        "colab": {
          "base_uri": "https://localhost:8080/",
          "height": 34
        }
      },
      "source": [
        "model_xgb.score(X_train,y_train)"
      ],
      "execution_count": 159,
      "outputs": [
        {
          "output_type": "execute_result",
          "data": {
            "text/plain": [
              "0.9999708791316627"
            ]
          },
          "metadata": {
            "tags": []
          },
          "execution_count": 159
        }
      ]
    },
    {
      "cell_type": "code",
      "metadata": {
        "id": "tbR1R8AzytYJ",
        "outputId": "630fdf77-a189-4f3e-fc30-a6e389ea5695",
        "colab": {
          "base_uri": "https://localhost:8080/",
          "height": 34
        }
      },
      "source": [
        "## BEST\n",
        "\n",
        "from sklearn.metrics import mean_squared_error,mean_absolute_error,r2_score\n",
        "mean_absolute_error(y_test,pre)"
      ],
      "execution_count": 145,
      "outputs": [
        {
          "output_type": "execute_result",
          "data": {
            "text/plain": [
              "4.958864784240722"
            ]
          },
          "metadata": {
            "tags": []
          },
          "execution_count": 145
        }
      ]
    },
    {
      "cell_type": "code",
      "metadata": {
        "id": "TIHky7IDCRWy",
        "outputId": "af1ca6b0-4587-48dc-8f3f-b4106de8c35a",
        "colab": {
          "base_uri": "https://localhost:8080/",
          "height": 34
        }
      },
      "source": [
        "\n",
        "mean_squared_log_error(y_test,pre)"
      ],
      "execution_count": 160,
      "outputs": [
        {
          "output_type": "execute_result",
          "data": {
            "text/plain": [
              "0.0022295554085863243"
            ]
          },
          "metadata": {
            "tags": []
          },
          "execution_count": 160
        }
      ]
    },
    {
      "cell_type": "code",
      "metadata": {
        "id": "ySLgMm4TywEf"
      },
      "source": [
        "#save model\n",
        "import pickle\n",
        "filename = \"/content/drive/My Drive/flipr ipl/Task1_model.pickle\"\n",
        "pickle.dump(model_xgb, open(filename, 'wb'))"
      ],
      "execution_count": 146,
      "outputs": []
    },
    {
      "cell_type": "code",
      "metadata": {
        "id": "RTFQC53ly5Sa",
        "outputId": "65fabd48-c20f-411c-8e49-852e0d8d22b9",
        "colab": {
          "base_uri": "https://localhost:8080/",
          "height": 527
        }
      },
      "source": [
        "from sklearn.model_selection import RandomizedSearchCV, GridSearchCV\n",
        "from sklearn.model_selection import StratifiedKFold\n",
        "import xgboost as xgb\n",
        "\n",
        "\n",
        "# A parameter grid for XGBoost\n",
        "params = {\n",
        "        'min_child_weight': [5, 7],\n",
        "        'gamma': [0.5, 1, 1.5],\n",
        "        'subsample': [0.5],\n",
        "        'max_depth': [3, 4, 5]\n",
        "        }\n",
        "\n",
        "xgb = xgb.XGBRegressor()\n",
        "\n",
        "skf = StratifiedKFold(n_splits=3, shuffle = True, random_state = 1001)\n",
        "\n",
        "random_search = RandomizedSearchCV(xgb, param_distributions=params,n_jobs=4,verbose=3, n_iter=4, scoring='neg_mean_squared_log_error', cv=skf.split(train_x,train_y), random_state=1001 )\n",
        "\n",
        "random_search.fit(train_x, train_y)"
      ],
      "execution_count": 147,
      "outputs": [
        {
          "output_type": "stream",
          "text": [
            "Fitting 3 folds for each of 4 candidates, totalling 12 fits\n"
          ],
          "name": "stdout"
        },
        {
          "output_type": "stream",
          "text": [
            "/usr/local/lib/python3.6/dist-packages/sklearn/model_selection/_split.py:667: UserWarning: The least populated class in y has only 1 members, which is less than n_splits=3.\n",
            "  % (min_groups, self.n_splits)), UserWarning)\n",
            "[Parallel(n_jobs=4)]: Using backend LokyBackend with 4 concurrent workers.\n"
          ],
          "name": "stderr"
        },
        {
          "output_type": "stream",
          "text": [
            "[15:03:39] WARNING: /workspace/src/objective/regression_obj.cu:152: reg:linear is now deprecated in favor of reg:squarederror.\n"
          ],
          "name": "stdout"
        },
        {
          "output_type": "stream",
          "text": [
            "[Parallel(n_jobs=4)]: Done  10 out of  12 | elapsed:    3.2s remaining:    0.6s\n",
            "[Parallel(n_jobs=4)]: Done  12 out of  12 | elapsed:    3.2s finished\n"
          ],
          "name": "stderr"
        },
        {
          "output_type": "execute_result",
          "data": {
            "text/plain": [
              "RandomizedSearchCV(cv=<generator object _BaseKFold.split at 0x7fd3ebc3e938>,\n",
              "                   error_score=nan,\n",
              "                   estimator=XGBRegressor(base_score=0.5, booster='gbtree',\n",
              "                                          colsample_bylevel=1,\n",
              "                                          colsample_bynode=1,\n",
              "                                          colsample_bytree=1, gamma=0,\n",
              "                                          importance_type='gain',\n",
              "                                          learning_rate=0.1, max_delta_step=0,\n",
              "                                          max_depth=3, min_child_weight=1,\n",
              "                                          missing=None, n_estimators=100,\n",
              "                                          n_jobs=1, nthread=None,...\n",
              "                                          random_state=0, reg_alpha=0,\n",
              "                                          reg_lambda=1, scale_pos_weight=1,\n",
              "                                          seed=None, silent=None, subsample=1,\n",
              "                                          verbosity=1),\n",
              "                   iid='deprecated', n_iter=4, n_jobs=4,\n",
              "                   param_distributions={'gamma': [0.5, 1, 1.5],\n",
              "                                        'max_depth': [3, 4, 5],\n",
              "                                        'min_child_weight': [5, 7],\n",
              "                                        'subsample': [0.5]},\n",
              "                   pre_dispatch='2*n_jobs', random_state=1001, refit=True,\n",
              "                   return_train_score=False,\n",
              "                   scoring='neg_mean_squared_log_error', verbose=3)"
            ]
          },
          "metadata": {
            "tags": []
          },
          "execution_count": 147
        }
      ]
    },
    {
      "cell_type": "code",
      "metadata": {
        "id": "5xtC8_fj8AM5",
        "outputId": "6c887239-6637-4e21-91db-cdc40f350e1c",
        "colab": {
          "base_uri": "https://localhost:8080/",
          "height": 513
        }
      },
      "source": [
        "print('\\n All results:')\n",
        "print(random_search.cv_results_)\n",
        "print('\\n Best estimator:')\n",
        "print(random_search.best_estimator_)\n",
        "print(random_search.best_score_ * 2 - 1)\n",
        "print('\\n Best hyperparameters:')\n",
        "print(random_search.best_params_)"
      ],
      "execution_count": 148,
      "outputs": [
        {
          "output_type": "stream",
          "text": [
            "\n",
            " All results:\n",
            "{'mean_fit_time': array([0.08861772, 0.07676935, 0.05542723, 0.04350646]), 'std_fit_time': array([0.00639407, 0.01944805, 0.00148217, 0.01356499]), 'mean_score_time': array([0.00473626, 0.00540821, 0.00375517, 0.0022014 ]), 'std_score_time': array([0.00293015, 0.00368231, 0.00173842, 0.00033464]), 'param_subsample': masked_array(data=[0.5, 0.5, 0.5, 0.5],\n",
            "             mask=[False, False, False, False],\n",
            "       fill_value='?',\n",
            "            dtype=object), 'param_min_child_weight': masked_array(data=[7, 5, 5, 5],\n",
            "             mask=[False, False, False, False],\n",
            "       fill_value='?',\n",
            "            dtype=object), 'param_max_depth': masked_array(data=[3, 5, 3, 4],\n",
            "             mask=[False, False, False, False],\n",
            "       fill_value='?',\n",
            "            dtype=object), 'param_gamma': masked_array(data=[0.5, 1, 0.5, 0.5],\n",
            "             mask=[False, False, False, False],\n",
            "       fill_value='?',\n",
            "            dtype=object), 'params': [{'subsample': 0.5, 'min_child_weight': 7, 'max_depth': 3, 'gamma': 0.5}, {'subsample': 0.5, 'min_child_weight': 5, 'max_depth': 5, 'gamma': 1}, {'subsample': 0.5, 'min_child_weight': 5, 'max_depth': 3, 'gamma': 0.5}, {'subsample': 0.5, 'min_child_weight': 5, 'max_depth': 4, 'gamma': 0.5}], 'split0_test_score': array([-0.03675849, -0.0114157 , -0.01580532, -0.01147629]), 'split1_test_score': array([-0.01842445, -0.02473647, -0.01883153, -0.02686111]), 'split2_test_score': array([-0.03108264, -0.01813559, -0.01529116, -0.01808364]), 'mean_test_score': array([-0.0287552 , -0.01809592, -0.01664267, -0.01880702]), 'std_test_score': array([0.00766364, 0.00543825, 0.00156192, 0.00630162]), 'rank_test_score': array([4, 2, 1, 3], dtype=int32)}\n",
            "\n",
            " Best estimator:\n",
            "XGBRegressor(base_score=0.5, booster='gbtree', colsample_bylevel=1,\n",
            "             colsample_bynode=1, colsample_bytree=1, gamma=0.5,\n",
            "             importance_type='gain', learning_rate=0.1, max_delta_step=0,\n",
            "             max_depth=3, min_child_weight=5, missing=None, n_estimators=100,\n",
            "             n_jobs=1, nthread=None, objective='reg:linear', random_state=0,\n",
            "             reg_alpha=0, reg_lambda=1, scale_pos_weight=1, seed=None,\n",
            "             silent=None, subsample=0.5, verbosity=1)\n",
            "-1.033285339824022\n",
            "\n",
            " Best hyperparameters:\n",
            "{'subsample': 0.5, 'min_child_weight': 5, 'max_depth': 3, 'gamma': 0.5}\n"
          ],
          "name": "stdout"
        }
      ]
    },
    {
      "cell_type": "code",
      "metadata": {
        "id": "_KMhlWln10E4"
      },
      "source": [
        "import xgboost as xgb\n",
        "model_xgb1 = xgb.XGBRegressor(base_score=0.5, booster='gbtree', colsample_bylevel=1,\n",
        "             colsample_bynode=1, colsample_bytree=1, gamma=0.5,\n",
        "             importance_type='gain', learning_rate=0.1, max_delta_step=0,\n",
        "             max_depth=3, min_child_weight=5, missing=None, n_estimators=100,\n",
        "             n_jobs=1, nthread=None, objective='reg:linear', random_state=0,\n",
        "             reg_alpha=0, reg_lambda=1, scale_pos_weight=1, seed=None,\n",
        "             silent=None, subsample=0.5, verbosity=1)"
      ],
      "execution_count": 149,
      "outputs": []
    },
    {
      "cell_type": "code",
      "metadata": {
        "id": "osJ5C2xT8MfN",
        "outputId": "7fc17b4f-cae3-46e7-f2e6-16b561bc1d99",
        "colab": {
          "base_uri": "https://localhost:8080/",
          "height": 153
        }
      },
      "source": [
        "model_xgb1.fit(X_train,y_train)"
      ],
      "execution_count": 150,
      "outputs": [
        {
          "output_type": "stream",
          "text": [
            "[15:04:36] WARNING: /workspace/src/objective/regression_obj.cu:152: reg:linear is now deprecated in favor of reg:squarederror.\n"
          ],
          "name": "stdout"
        },
        {
          "output_type": "execute_result",
          "data": {
            "text/plain": [
              "XGBRegressor(base_score=0.5, booster='gbtree', colsample_bylevel=1,\n",
              "             colsample_bynode=1, colsample_bytree=1, gamma=0.5,\n",
              "             importance_type='gain', learning_rate=0.1, max_delta_step=0,\n",
              "             max_depth=3, min_child_weight=5, missing=None, n_estimators=100,\n",
              "             n_jobs=1, nthread=None, objective='reg:linear', random_state=0,\n",
              "             reg_alpha=0, reg_lambda=1, scale_pos_weight=1, seed=None,\n",
              "             silent=None, subsample=0.5, verbosity=1)"
            ]
          },
          "metadata": {
            "tags": []
          },
          "execution_count": 150
        }
      ]
    },
    {
      "cell_type": "code",
      "metadata": {
        "id": "MFNuic3Ay8ZO"
      },
      "source": [
        "y_test_p=model_xgb1.predict(X_test)"
      ],
      "execution_count": 151,
      "outputs": []
    },
    {
      "cell_type": "code",
      "metadata": {
        "id": "mMbSOWPV8SmO",
        "outputId": "8315175b-0ba8-4148-dcc7-23b6610f593d",
        "colab": {
          "base_uri": "https://localhost:8080/",
          "height": 34
        }
      },
      "source": [
        "model_xgb1.score(X_test,y_test)"
      ],
      "execution_count": 152,
      "outputs": [
        {
          "output_type": "execute_result",
          "data": {
            "text/plain": [
              "0.9904403074202662"
            ]
          },
          "metadata": {
            "tags": []
          },
          "execution_count": 152
        }
      ]
    },
    {
      "cell_type": "code",
      "metadata": {
        "id": "PlEEHxZP8U1w",
        "outputId": "8e087221-d473-42d5-d0b7-e25581a571f3",
        "colab": {
          "base_uri": "https://localhost:8080/",
          "height": 34
        }
      },
      "source": [
        "mean_absolute_error(y_test,y_test_p)"
      ],
      "execution_count": 153,
      "outputs": [
        {
          "output_type": "execute_result",
          "data": {
            "text/plain": [
              "9.825837707519531"
            ]
          },
          "metadata": {
            "tags": []
          },
          "execution_count": 153
        }
      ]
    },
    {
      "cell_type": "code",
      "metadata": {
        "id": "mdCIfEww8cUm"
      },
      "source": [
        "## BEST MODEL is model_xgb\n",
        "\n",
        "final_prediction=model_xgb.predict(test)"
      ],
      "execution_count": 154,
      "outputs": []
    },
    {
      "cell_type": "code",
      "metadata": {
        "id": "HymMr_mu80Wy",
        "outputId": "661f33c5-d972-44d9-a4a9-1ca194b2d1bd",
        "colab": {
          "base_uri": "https://localhost:8080/",
          "height": 374
        }
      },
      "source": [
        "final_prediction"
      ],
      "execution_count": 155,
      "outputs": [
        {
          "output_type": "execute_result",
          "data": {
            "text/plain": [
              "array([592.1432   , 520.2773   , 509.55008  , 509.09018  , 489.40332  ,\n",
              "       487.80627  , 463.75656  , 441.69128  , 440.36716  , 440.99402  ,\n",
              "       415.86438  , 414.76526  , 403.9905   , 405.10443  , 404.13483  ,\n",
              "       404.73242  , 402.11667  , 400.45584  , 401.66644  , 402.59348  ,\n",
              "       401.3939   , 397.51376  , 391.9681   , 392.66562  , 392.35938  ,\n",
              "       374.49454  , 373.29846  , 373.22495  , 341.62354  , 343.4799   ,\n",
              "       341.5889   , 343.99857  , 318.94193  , 302.3408   , 279.16846  ,\n",
              "       254.56168  , 243.15463  , 185.30336  , 184.1066   , 183.58778  ,\n",
              "       182.87207  , 183.07428  , 184.16168  , 182.2083   , 182.66273  ,\n",
              "       167.78038  , 167.4696   , 159.96085  , 121.83036  , 107.68165  ,\n",
              "       100.22444  ,  98.25956  ,  97.88454  ,  97.73155  ,  98.14844  ,\n",
              "        95.03525  ,  89.622696 ,  86.10433  ,  86.33766  ,  85.998634 ,\n",
              "        80.37269  ,  80.78396  ,  72.46174  ,  68.86049  ,  70.519936 ,\n",
              "        70.12398  ,  70.43868  ,  65.8438   ,  43.436153 ,  42.705    ,\n",
              "        25.907227 ,  26.276308 ,  25.879381 ,  27.709135 ,  21.253822 ,\n",
              "        21.346266 ,  19.226597 ,  19.410025 ,  19.189264 ,  18.133846 ,\n",
              "        14.675967 ,  15.162177 ,  14.666816 ,  14.403508 ,  14.380463 ,\n",
              "        14.180129 ,  12.632309 ,  11.703668 ,  12.632309 ,  12.593854 ,\n",
              "        12.410667 ,  10.496403 ,  10.856914 ,  10.712458 ,   9.6935215,\n",
              "         9.773861 ,  10.710597 ,  10.112514 ,   9.625664 ,   9.820411 ],\n",
              "      dtype=float32)"
            ]
          },
          "metadata": {
            "tags": []
          },
          "execution_count": 155
        }
      ]
    },
    {
      "cell_type": "code",
      "metadata": {
        "id": "R8z2riFN82b0"
      },
      "source": [
        "test_1=pd.read_excel(\"/content/drive/My Drive/flipr ipl/Data.xlsx\",sheet_name='Test_Data')"
      ],
      "execution_count": 156,
      "outputs": []
    },
    {
      "cell_type": "code",
      "metadata": {
        "id": "lxtf4pGb9VzS"
      },
      "source": [
        "results_df = pd.DataFrame(data={'Players':test_1['PLAYER'], 'Total_runs_ipl2020':final_prediction})\n",
        "results_df.to_csv('/content/drive/My Drive/flipr ipl/solution.csv', index=False)"
      ],
      "execution_count": 158,
      "outputs": []
    },
    {
      "cell_type": "code",
      "metadata": {
        "id": "9cp5vtqE94c3"
      },
      "source": [
        ""
      ],
      "execution_count": null,
      "outputs": []
    }
  ]
}